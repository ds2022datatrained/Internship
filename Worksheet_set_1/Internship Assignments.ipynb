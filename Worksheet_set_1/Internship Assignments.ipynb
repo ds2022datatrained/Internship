{
 "cells": [
  {
   "cell_type": "code",
   "execution_count": 21,
   "id": "73ebbb36",
   "metadata": {},
   "outputs": [
    {
     "name": "stdout",
     "output_type": "stream",
     "text": [
      "Enter Number Here 5\n",
      "Factorial of the Number is 120\n"
     ]
    }
   ],
   "source": [
    "n=int(input(\"Enter Number Here \"))\n",
    "fact=1\n",
    "while n>0:\n",
    "    fact=fact*n\n",
    "    n=n-1\n",
    "print(\"Factorial of the Number is\", fact)"
   ]
  },
  {
   "cell_type": "code",
   "execution_count": 6,
   "id": "ed8be569",
   "metadata": {},
   "outputs": [
    {
     "name": "stdout",
     "output_type": "stream",
     "text": [
      "Enter the Number here 79\n",
      "79 is a Prime Number\n"
     ]
    }
   ],
   "source": [
    "n1=int(input(\"Enter the Number here \"))\n",
    "if n1>1:\n",
    "    for i in range(2, n1):\n",
    "        if (n1%i)==0:\n",
    "            print(n1, \"is not a Prime Number\")\n",
    "            break\n",
    "    else:\n",
    "        print(n1, \"is a Prime Number\")\n",
    "elif n1==0 or 1:\n",
    "    print(n1, \"is not a Prime or Composite Number\")\n",
    "else:\n",
    "    print(n1, \"is a Composite Number\")"
   ]
  },
  {
   "cell_type": "code",
   "execution_count": 22,
   "id": "7b0b5f52",
   "metadata": {},
   "outputs": [
    {
     "name": "stdout",
     "output_type": "stream",
     "text": [
      "Enter the word here= Work\n",
      "The string is not a Palindrome word\n"
     ]
    }
   ],
   "source": [
    "str1=str(input(\"Enter the word here= \"))\n",
    "rev_str1=reversed(str1)\n",
    "if str1==rev_str1:\n",
    "    print(\"The string is a Palindrome word\")\n",
    "else:\n",
    "    print(\"The string is not a Palindrome word\")"
   ]
  },
  {
   "cell_type": "code",
   "execution_count": 35,
   "id": "61395f99",
   "metadata": {},
   "outputs": [
    {
     "name": "stdout",
     "output_type": "stream",
     "text": [
      "Enter base of the right sided triangle here= 21.7\n",
      "Enter height of the right sided triangle here= 6.8\n",
      "Third side of right sided triangle is =  22.740492518852797\n"
     ]
    }
   ],
   "source": [
    "import math\n",
    "a=float(input(\"Enter base of the right sided triangle here= \"))\n",
    "b=float(input(\"Enter height of the right sided triangle here= \"))\n",
    "c=math.sqrt(a**2+b**2)\n",
    "print(\"Third side of right sided triangle is = \", c)"
   ]
  },
  {
   "cell_type": "code",
   "execution_count": 51,
   "id": "d56ad412",
   "metadata": {},
   "outputs": [
    {
     "name": "stdout",
     "output_type": "stream",
     "text": [
      "Enter Sentence here= this is my python assignment\n",
      "{'t': 3, 'h': 2, 'i': 3, 's': 4, ' ': 4, 'm': 2, 'y': 2, 'p': 1, 'o': 1, 'n': 3, 'a': 1, 'g': 1, 'e': 1}\n"
     ]
    }
   ],
   "source": [
    "l=str(input(\"Enter Sentence here= \"))\n",
    "freq={}\n",
    "for char in l:\n",
    "    freq[char]=freq.get(char,0)+1\n",
    "print(freq)"
   ]
  }
 ],
 "metadata": {
  "kernelspec": {
   "display_name": "Python 3 (ipykernel)",
   "language": "python",
   "name": "python3"
  },
  "language_info": {
   "codemirror_mode": {
    "name": "ipython",
    "version": 3
   },
   "file_extension": ".py",
   "mimetype": "text/x-python",
   "name": "python",
   "nbconvert_exporter": "python",
   "pygments_lexer": "ipython3",
   "version": "3.9.13"
  }
 },
 "nbformat": 4,
 "nbformat_minor": 5
}
