{
 "cells": [
  {
   "cell_type": "code",
   "execution_count": 1,
   "id": "9bcd0af2",
   "metadata": {},
   "outputs": [],
   "source": [
    "import regex as re"
   ]
  },
  {
   "cell_type": "markdown",
   "id": "41b48c3e",
   "metadata": {},
   "source": [
    "Answer of Question-1"
   ]
  },
  {
   "cell_type": "code",
   "execution_count": 6,
   "id": "43a911c4",
   "metadata": {},
   "outputs": [
    {
     "data": {
      "text/plain": [
       "['Mango',\n",
       " 'is',\n",
       " 'very',\n",
       " 'tasty',\n",
       " 'fruit',\n",
       " 'its',\n",
       " 'current',\n",
       " 'price',\n",
       " 'is',\n",
       " 'around',\n",
       " 'Rs',\n",
       " '70',\n",
       " 'per',\n",
       " 'Kg']"
      ]
     },
     "execution_count": 6,
     "metadata": {},
     "output_type": "execute_result"
    }
   ],
   "source": [
    "Text1=\"Mango is a very tasty fruit, its current price is around Rs.70 per Kg\"\n",
    "Result1=re.findall(r\"\\w[a-zA-Z0-9]+\",Text1)\n",
    "Result1"
   ]
  },
  {
   "cell_type": "markdown",
   "id": "f26860e2",
   "metadata": {},
   "source": [
    "Answer of Question-2"
   ]
  },
  {
   "cell_type": "code",
   "execution_count": 160,
   "id": "cceae64d",
   "metadata": {},
   "outputs": [],
   "source": [
    "def search_ab(word_string1):\n",
    "    P1=r\"ab*?\"\n",
    "    if re.search(P1,word_string1):\n",
    "        print(\"String with a & optional b is: \",word_string1)\n",
    "    else:\n",
    "        print(\"Character 'a' followed by zero or more 'b' not found in the given string\")"
   ]
  },
  {
   "cell_type": "code",
   "execution_count": 161,
   "id": "30855a28",
   "metadata": {},
   "outputs": [
    {
     "name": "stdout",
     "output_type": "stream",
     "text": [
      "String with a & optional b is:  mahesh\n"
     ]
    }
   ],
   "source": [
    "search_ab(\"mahesh\")"
   ]
  },
  {
   "cell_type": "code",
   "execution_count": 162,
   "id": "0284a405",
   "metadata": {},
   "outputs": [
    {
     "name": "stdout",
     "output_type": "stream",
     "text": [
      "String with a & optional b is:  surabhi\n"
     ]
    }
   ],
   "source": [
    "search_ab(\"surabhi\")"
   ]
  },
  {
   "cell_type": "code",
   "execution_count": 163,
   "id": "593ba193",
   "metadata": {},
   "outputs": [
    {
     "name": "stdout",
     "output_type": "stream",
     "text": [
      "Character 'a' followed by zero or more 'b' not found in the given string\n"
     ]
    }
   ],
   "source": [
    "search_ab(\"ritesh\")"
   ]
  },
  {
   "cell_type": "markdown",
   "id": "c0f5f403",
   "metadata": {},
   "source": [
    "Answer of Question-3"
   ]
  },
  {
   "cell_type": "code",
   "execution_count": 407,
   "id": "4d73d9cc",
   "metadata": {},
   "outputs": [],
   "source": [
    "def word_contain(word_string2):\n",
    "    P2=r\"\\a|b+?\"\n",
    "    if re.search(P2,word_string2):\n",
    "        print(\"String with a & one or more b is: \",word_string2)\n",
    "    else:\n",
    "        print(\"Character 'a' followed by one or more 'b' not found in the given string\")"
   ]
  },
  {
   "cell_type": "code",
   "execution_count": 408,
   "id": "07c12577",
   "metadata": {},
   "outputs": [
    {
     "name": "stdout",
     "output_type": "stream",
     "text": [
      "String with a & one or more b is:  saubhagya\n"
     ]
    }
   ],
   "source": [
    "word_contain('saubhagya')"
   ]
  },
  {
   "cell_type": "code",
   "execution_count": 409,
   "id": "084d698b",
   "metadata": {},
   "outputs": [
    {
     "name": "stdout",
     "output_type": "stream",
     "text": [
      "Character 'a' followed by one or more 'b' not found in the given string\n"
     ]
    }
   ],
   "source": [
    "word_contain('shikha')"
   ]
  },
  {
   "cell_type": "code",
   "execution_count": 410,
   "id": "ce2c36c3",
   "metadata": {},
   "outputs": [
    {
     "name": "stdout",
     "output_type": "stream",
     "text": [
      "Character 'a' followed by one or more 'b' not found in the given string\n"
     ]
    }
   ],
   "source": [
    "word_contain('mitilesh')"
   ]
  },
  {
   "cell_type": "markdown",
   "id": "8fba6028",
   "metadata": {},
   "source": [
    "Answer of Question-4"
   ]
  },
  {
   "cell_type": "code",
   "execution_count": 417,
   "id": "ac4721ff",
   "metadata": {},
   "outputs": [],
   "source": [
    "def search_a1b(word_string3):\n",
    "    P3=r\"ab??\"\n",
    "    if re.search(P3,word_string3):\n",
    "        print(\"String with a & zero or one b is: \",word_string3)\n",
    "    else:\n",
    "        print(\"Character 'a' followed by zero or one 'b' not found in the given string\")"
   ]
  },
  {
   "cell_type": "code",
   "execution_count": 418,
   "id": "70b5d22c",
   "metadata": {},
   "outputs": [
    {
     "name": "stdout",
     "output_type": "stream",
     "text": [
      "String with a & zero or one b is:  david\n"
     ]
    }
   ],
   "source": [
    "search_a1b('david')"
   ]
  },
  {
   "cell_type": "code",
   "execution_count": 419,
   "id": "f8f753e9",
   "metadata": {},
   "outputs": [
    {
     "name": "stdout",
     "output_type": "stream",
     "text": [
      "Character 'a' followed by zero or one 'b' not found in the given string\n"
     ]
    }
   ],
   "source": [
    "search_a1b('membership')"
   ]
  },
  {
   "cell_type": "code",
   "execution_count": 420,
   "id": "5e8dbded",
   "metadata": {},
   "outputs": [
    {
     "name": "stdout",
     "output_type": "stream",
     "text": [
      "String with a & zero or one b is:  brawn\n"
     ]
    }
   ],
   "source": [
    "search_a1b('brawn')"
   ]
  },
  {
   "cell_type": "markdown",
   "id": "3989877f",
   "metadata": {},
   "source": [
    "Answer of Question-5"
   ]
  },
  {
   "cell_type": "code",
   "execution_count": 421,
   "id": "5705a070",
   "metadata": {},
   "outputs": [
    {
     "name": "stdout",
     "output_type": "stream",
     "text": [
      "Please Enter the word here : membrane\n",
      "Character 'a' followed by three 'b' not found in the given string\n"
     ]
    }
   ],
   "source": [
    "string_a3b=input(\"Please Enter the word here : \")\n",
    "pattern1=re.compile(r'ab{3}?')\n",
    "matching1=re.search(pattern1,string_a3b)\n",
    "if matching1:\n",
    "    print(\"String with a & three b is: \",string_a3b)\n",
    "else:\n",
    "    print(\"Character 'a' followed by three 'b' not found in the given string\")"
   ]
  },
  {
   "cell_type": "markdown",
   "id": "7dec04c1",
   "metadata": {},
   "source": [
    "Answer of Question-6"
   ]
  },
  {
   "cell_type": "code",
   "execution_count": 422,
   "id": "afff304d",
   "metadata": {},
   "outputs": [
    {
     "name": "stdout",
     "output_type": "stream",
     "text": [
      "['Importance', 'Of', 'Regular', 'Expressions', 'In', 'Python']\n"
     ]
    }
   ],
   "source": [
    "Text_String=\"ImportanceOfRegularExpressionsInPython\"\n",
    "string_result=re.findall(\"[A-Z][^A-Z]*\",Text_String)\n",
    "print(string_result)"
   ]
  },
  {
   "cell_type": "markdown",
   "id": "5a9bc605",
   "metadata": {},
   "source": [
    "Answer of Question-7"
   ]
  },
  {
   "cell_type": "code",
   "execution_count": 428,
   "id": "6ab5b77d",
   "metadata": {},
   "outputs": [
    {
     "name": "stdout",
     "output_type": "stream",
     "text": [
      "Please Enter the word here : saurabh\n",
      "Character 'a' followed by two-three 'b' not found in the given string\n"
     ]
    }
   ],
   "source": [
    "string_a23b=input(\"Please Enter the word here : \")\n",
    "pattern2=re.compile(r'ab{2,3}?')\n",
    "matching2=re.search(pattern2,string_a23b)\n",
    "if matching2:\n",
    "    print(\"String with a & two-three b is: \",string_a23b)\n",
    "else:\n",
    "    print(\"Character 'a' followed by two-three 'b' not found in the given string\")"
   ]
  },
  {
   "cell_type": "markdown",
   "id": "76dca766",
   "metadata": {},
   "source": [
    "Answer of Question-8"
   ]
  },
  {
   "cell_type": "code",
   "execution_count": 430,
   "id": "517e570d",
   "metadata": {},
   "outputs": [
    {
     "name": "stdout",
     "output_type": "stream",
     "text": [
      "Please Enter the word here : Many_many_Congratulations\n",
      "String with lowercase letters joined with a underscore is:  Many_many_Congratulations\n"
     ]
    }
   ],
   "source": [
    "string_l_u=input(\"Please Enter the word here : \")\n",
    "pattern3=re.compile('[a-z]+_[a-z]+')\n",
    "matching3=re.search(pattern3,string_l_u)\n",
    "if matching3:\n",
    "    print(\"String with lowercase letters joined with a underscore is: \",string_l_u)\n",
    "else:\n",
    "    print(\"String with lowercase letters joined with a underscore not found in the given string\")"
   ]
  },
  {
   "cell_type": "markdown",
   "id": "f01f20e7",
   "metadata": {},
   "source": [
    "Answer of Question-9"
   ]
  },
  {
   "cell_type": "code",
   "execution_count": 433,
   "id": "e74f1ac5",
   "metadata": {},
   "outputs": [
    {
     "name": "stdout",
     "output_type": "stream",
     "text": [
      "Please Enter the string here : Todays cricket match was superb\n",
      "String having 'a' followed by anything, ending in 'b' is:  Todays cricket match was superb\n"
     ]
    }
   ],
   "source": [
    "string_aendb=input(\"Please Enter the string here : \")\n",
    "pattern4=re.compile(r'a.*?b$')\n",
    "matching4=re.search(pattern4,string_aendb)\n",
    "if matching4:\n",
    "    print(\"String having 'a' followed by anything, ending in 'b' is: \",string_aendb)\n",
    "else:\n",
    "    print(\"String having 'a' followed by anything, ending in 'b' not found in the given string\")"
   ]
  },
  {
   "cell_type": "markdown",
   "id": "27538210",
   "metadata": {},
   "source": [
    "Answer of Question-10"
   ]
  },
  {
   "cell_type": "code",
   "execution_count": 435,
   "id": "b30606c1",
   "metadata": {},
   "outputs": [
    {
     "name": "stdout",
     "output_type": "stream",
     "text": [
      "Please Enter the string here : My string is matching\n",
      "it is matching\n"
     ]
    }
   ],
   "source": [
    "match_begin=input(\"Please Enter the string here : \")\n",
    "pattern5=re.compile('^\\w+')\n",
    "matching5=re.match(pattern5,match_begin)\n",
    "if matching5:\n",
    "    print(\"it is matching\")\n",
    "else:\n",
    "    print(\"it is not matching\")"
   ]
  },
  {
   "cell_type": "markdown",
   "id": "993e2744",
   "metadata": {},
   "source": [
    "Answer of Question-11"
   ]
  },
  {
   "cell_type": "code",
   "execution_count": 438,
   "id": "45c72c64",
   "metadata": {},
   "outputs": [
    {
     "name": "stdout",
     "output_type": "stream",
     "text": [
      "Please Enter the string here : India made 350_runs in today ODI match\n",
      "String that contains only upper and lowercase letters, numbers, and underscores is:  India made 350_runs in today ODI match\n"
     ]
    }
   ],
   "source": [
    "string_u_l=input(\"Please Enter the string here : \")\n",
    "pattern6=re.compile(r'[^0-9A-Za-z_]+')\n",
    "matching6=re.search(pattern6,string_u_l)\n",
    "if matching6:\n",
    "    print(\"String that contains only upper and lowercase letters, numbers, and underscores is: \",string_u_l)\n",
    "else:\n",
    "    print(\"String that contains only upper and lowercase letters, numbers, and underscores not found in the given string\")"
   ]
  },
  {
   "cell_type": "markdown",
   "id": "9b7fd892",
   "metadata": {},
   "source": [
    "Answer of Question-12"
   ]
  },
  {
   "cell_type": "code",
   "execution_count": 444,
   "id": "7df2b6ad",
   "metadata": {},
   "outputs": [
    {
     "name": "stdout",
     "output_type": "stream",
     "text": [
      "Please enter string here : 300 Per KG\n",
      "Please enter number here : 300\n",
      "it is matching\n"
     ]
    }
   ],
   "source": [
    "String=input('Please enter string here : ')\n",
    "Number=input('Please enter number here : ')\n",
    "matching7=re.match(Number, String)\n",
    "if matching7:\n",
    "    print(\"it is matching\")\n",
    "else:\n",
    "    print(\"it is not matching\")"
   ]
  },
  {
   "cell_type": "markdown",
   "id": "a8a7a510",
   "metadata": {},
   "source": [
    "Answer of Question-13"
   ]
  },
  {
   "cell_type": "code",
   "execution_count": 3,
   "id": "c16e821b",
   "metadata": {},
   "outputs": [
    {
     "name": "stdout",
     "output_type": "stream",
     "text": [
      "Please Enter the IP Address here : 100.010.005.236\n",
      "100.10.5.236\n"
     ]
    }
   ],
   "source": [
    "IP_Address=input(\"Please Enter the IP Address here : \")\n",
    "Cleaned_IP=re.sub('\\.0*','.',IP_Address)\n",
    "print(Cleaned_IP)"
   ]
  },
  {
   "cell_type": "markdown",
   "id": "01544714",
   "metadata": {},
   "source": [
    "Answer of Question-14"
   ]
  },
  {
   "cell_type": "code",
   "execution_count": 20,
   "id": "10623894",
   "metadata": {},
   "outputs": [
    {
     "data": {
      "text/plain": [
       "' August 15th 1947'"
      ]
     },
     "execution_count": 20,
     "metadata": {},
     "output_type": "execute_result"
    }
   ],
   "source": [
    "Text_File1=open(\"C:\\Flip Robo Internship\\9\\Q-14 Sample Text.txt\",\"r\")\n",
    "Sample_Text1=Text_File1.read()\n",
    "Date1=re.search(\"\\s+([^\\s]+)+(\\s\\w*\\d+\\w*\\s)+(\\d{4})\",Sample_Text1)\n",
    "Date1.group()"
   ]
  },
  {
   "cell_type": "markdown",
   "id": "41c84087",
   "metadata": {},
   "source": [
    "Answer of Question-15"
   ]
  },
  {
   "cell_type": "code",
   "execution_count": 6,
   "id": "0f47d554",
   "metadata": {},
   "outputs": [
    {
     "name": "stdout",
     "output_type": "stream",
     "text": [
      "Animal names are:  ['fox', 'dog']\n"
     ]
    }
   ],
   "source": [
    "sample_string1='The quick brown fox jumps over the lazy dog'\n",
    "matching8=re.findall('fox|dog|horse',sample_string1)\n",
    "if matching8:\n",
    "    print(\"Animal names are: \",matching8)\n",
    "else:\n",
    "    print(\"Animal names not found in the given string\")"
   ]
  },
  {
   "cell_type": "markdown",
   "id": "157fa3a5",
   "metadata": {},
   "source": [
    "Answer of Question-16"
   ]
  },
  {
   "cell_type": "code",
   "execution_count": 9,
   "id": "f90f4d4f",
   "metadata": {},
   "outputs": [
    {
     "name": "stdout",
     "output_type": "stream",
     "text": [
      "Animal names are:  <regex.Match object; span=(16, 19), match='fox'>\n"
     ]
    }
   ],
   "source": [
    "sample_string2='The quick brown fox jumps over the lazy dog'\n",
    "matching9=re.search('fox',sample_string2)\n",
    "if matching9:\n",
    "    print(\"Animal names are: \",matching9)\n",
    "else:\n",
    "    print(\"Animal names not found in the given string\")"
   ]
  },
  {
   "cell_type": "markdown",
   "id": "3f4de86e",
   "metadata": {},
   "source": [
    "Answer of Question-17"
   ]
  },
  {
   "cell_type": "code",
   "execution_count": 13,
   "id": "492b19c1",
   "metadata": {},
   "outputs": [
    {
     "name": "stdout",
     "output_type": "stream",
     "text": [
      "The Substring exercises found in the String as 3 times\n"
     ]
    }
   ],
   "source": [
    "String_Q17='Python exercises, PHP exercises, C# exercises'\n",
    "matching10=re.findall('exercises',String_Q17)\n",
    "if matching10:\n",
    "    print('The Substring exercises found in the String as',len(matching10), 'times')\n",
    "else:\n",
    "    print('The Substring exercises not found in the String')"
   ]
  },
  {
   "cell_type": "markdown",
   "id": "fb813ec0",
   "metadata": {},
   "source": [
    "Answer of Question-18"
   ]
  },
  {
   "cell_type": "code",
   "execution_count": 16,
   "id": "2ce4d87b",
   "metadata": {},
   "outputs": [
    {
     "name": "stdout",
     "output_type": "stream",
     "text": [
      "String 'exercises' found at (7, 16) position\n",
      "String 'exercises' found at (22, 31) position\n",
      "String 'exercises' found at (36, 45) position\n"
     ]
    }
   ],
   "source": [
    "String_Q18='Python exercises, PHP exercises, C# exercises'\n",
    "Q18_Substring='exercises'\n",
    "matching11=re.finditer(Q18_Substring,String_Q18)\n",
    "for m in matching11:\n",
    "    print('String \\'{}\\''.format(Q18_Substring), 'found at', m.span(), 'position')"
   ]
  },
  {
   "cell_type": "markdown",
   "id": "382d8317",
   "metadata": {},
   "source": [
    "Answer of Question-19"
   ]
  },
  {
   "cell_type": "code",
   "execution_count": 17,
   "id": "08716664",
   "metadata": {},
   "outputs": [
    {
     "name": "stdout",
     "output_type": "stream",
     "text": [
      "12-07-2023\n"
     ]
    }
   ],
   "source": [
    "Today_Date='2023-07-12'\n",
    "matching12=re.split('-',Today_Date)\n",
    "Date_Format='-'.join(matching12[::-1])\n",
    "print(Date_Format)"
   ]
  },
  {
   "cell_type": "markdown",
   "id": "03565865",
   "metadata": {},
   "source": [
    "Answer of Question-20"
   ]
  },
  {
   "cell_type": "code",
   "execution_count": 3,
   "id": "182c4fb3",
   "metadata": {},
   "outputs": [
    {
     "name": "stdout",
     "output_type": "stream",
     "text": [
      "String that starting by 'a' or 'e' is:  ['ashutosh', 'able', 'and', 'eligible', 'examination']\n"
     ]
    }
   ],
   "source": [
    "string_ae='mr. ashutosh is able and eligible for the examination'\n",
    "matching13=re.findall(\"[ae]\\w+\",string_ae)\n",
    "if matching13:\n",
    "    print(\"String that starting by 'a' or 'e' is: \",matching13)\n",
    "else:\n",
    "    print(\"String that starting by 'a' or 'e' not found in the given string\")"
   ]
  },
  {
   "cell_type": "markdown",
   "id": "e8f5055a",
   "metadata": {},
   "source": [
    "Answer of Question-21"
   ]
  },
  {
   "cell_type": "code",
   "execution_count": 5,
   "id": "ce1e75d2",
   "metadata": {},
   "outputs": [
    {
     "name": "stdout",
     "output_type": "stream",
     "text": [
      "12\n",
      "The Possition is:  17\n",
      "50\n",
      "The Possition is:  37\n",
      "1\n",
      "The Possition is:  46\n",
      "50\n",
      "The Possition is:  68\n"
     ]
    }
   ],
   "source": [
    "string_no='Present price of 12 pcs Banana is Rs.50/- and 1 Kg Mango is also Rs.50/-'\n",
    "pattern7=\"\\d+\"\n",
    "matching14=re.finditer(pattern7,string_no)\n",
    "for match in matching14:\n",
    "    print(match.group(0))\n",
    "    print(\"The Possition is: \", match.start())"
   ]
  },
  {
   "cell_type": "markdown",
   "id": "3dc18030",
   "metadata": {},
   "source": [
    "Answer of Question-22"
   ]
  },
  {
   "cell_type": "code",
   "execution_count": 9,
   "id": "1cdf0e03",
   "metadata": {},
   "outputs": [
    {
     "name": "stdout",
     "output_type": "stream",
     "text": [
      "50\n"
     ]
    }
   ],
   "source": [
    "string_no='Present price of 12 pcs Banana is Rs.50/- and 1 Kg Mango is also Rs.50/-'\n",
    "pattern8=\"\\d+\"\n",
    "matching15=re.findall(pattern8,string_no)\n",
    "print(max(matching15))"
   ]
  },
  {
   "cell_type": "markdown",
   "id": "ab096e71",
   "metadata": {},
   "source": [
    "Answer of Question-23"
   ]
  },
  {
   "cell_type": "code",
   "execution_count": 14,
   "id": "648da36c",
   "metadata": {},
   "outputs": [
    {
     "name": "stdout",
     "output_type": "stream",
     "text": [
      "i am going to put space where ever it found capital letters\n"
     ]
    }
   ],
   "source": [
    "string_put='IAmGoingToPutSpaceWhereEverItFoundCapitalLetters'\n",
    "sentance=re.findall('[A-Z][a-z]*',string_put)\n",
    "for w in range(0,len(sentance)):\n",
    "    sentance[w]=sentance[w][0].lower()+sentance[w][1:]\n",
    "print(' '.join(sentance))"
   ]
  },
  {
   "cell_type": "markdown",
   "id": "ba81c360",
   "metadata": {},
   "source": [
    "Answer of Question-24"
   ]
  },
  {
   "cell_type": "code",
   "execution_count": 15,
   "id": "74c31072",
   "metadata": {},
   "outputs": [
    {
     "name": "stdout",
     "output_type": "stream",
     "text": [
      "Upper case letter followed by lower case letters found\n"
     ]
    }
   ],
   "source": [
    "string_sequence='I have Purchased a Cricket Match Ticket for Friday'\n",
    "pattern9='[A-Z]+[a-z]+$'\n",
    "if re.search(pattern9,string_sequence):\n",
    "    print('Upper case letter followed by lower case letters found')\n",
    "else:\n",
    "    print('Upper case letter followed by lower case letters not found')"
   ]
  },
  {
   "cell_type": "markdown",
   "id": "ed28334d",
   "metadata": {},
   "source": [
    "Answer of Question-25"
   ]
  },
  {
   "cell_type": "code",
   "execution_count": 18,
   "id": "82a96cb2",
   "metadata": {},
   "outputs": [
    {
     "name": "stdout",
     "output_type": "stream",
     "text": [
      "many congratulations to my very best friends\n"
     ]
    }
   ],
   "source": [
    "string_double='many many congratulations to my very very best friends'\n",
    "pattern10=r'\\b(\\w+)(?:\\W+\\1\\b)+'\n",
    "single=re.sub(pattern10,r'\\1',string_double)\n",
    "print(single)"
   ]
  },
  {
   "cell_type": "markdown",
   "id": "adcf9a13",
   "metadata": {},
   "source": [
    "Answer of Question-26"
   ]
  },
  {
   "cell_type": "code",
   "execution_count": 24,
   "id": "0c964918",
   "metadata": {},
   "outputs": [
    {
     "name": "stdout",
     "output_type": "stream",
     "text": [
      "Enter the string here: ODI350RunsMade@\n",
      "No the string is not ending with alphanumeric character\n"
     ]
    }
   ],
   "source": [
    "string_an=input('Enter the string here: ')\n",
    "pattern11='[A-Za-z0-9]$'\n",
    "find1=re.search(pattern11,string_an)\n",
    "if find1:\n",
    "    print('Yes the string is ending with alphanumeric character')\n",
    "else:\n",
    "    print('No the string is not ending with alphanumeric character')"
   ]
  },
  {
   "cell_type": "markdown",
   "id": "e4cece77",
   "metadata": {},
   "source": [
    "Answer of Question-27"
   ]
  },
  {
   "cell_type": "code",
   "execution_count": 25,
   "id": "64c58bc2",
   "metadata": {},
   "outputs": [
    {
     "name": "stdout",
     "output_type": "stream",
     "text": [
      "['#Doltiwal', '#xyzabc', '#Demonetization']\n"
     ]
    }
   ],
   "source": [
    "sample_text='RT @kapil_kausik: #Doltiwal I mean #xyzabc is \"hurt\" by #Demonetization as the same has rendered USELESS <ed><U+00A0><U+00BD><ed><U+00B1><U+0089> \"acquired funds\" No wo'\n",
    "pattern12='#\\S+'\n",
    "hastag=re.findall(pattern12,sample_text)\n",
    "print(hastag)"
   ]
  },
  {
   "cell_type": "markdown",
   "id": "9f42c6cf",
   "metadata": {},
   "source": [
    "Answer of Question-28"
   ]
  },
  {
   "cell_type": "code",
   "execution_count": 37,
   "id": "26119775",
   "metadata": {},
   "outputs": [
    {
     "name": "stdout",
     "output_type": "stream",
     "text": [
      "@Jags123456 Bharat band on 28??<ed><ed>Those who  are protesting #demonetization  are all different party leaders\n"
     ]
    }
   ],
   "source": [
    "sample_text1='@Jags123456 Bharat band on 28??<ed><U+00A0><U+00BD><ed><U+00B8><U+0082>Those who  are protesting #demonetization  are all different party leaders'\n",
    "pattern13=r'<U\\+[A-Z0-9]{4}>'\n",
    "removed=re.sub(pattern13,\"\",sample_text1)\n",
    "print(removed)"
   ]
  },
  {
   "cell_type": "markdown",
   "id": "30195aba",
   "metadata": {},
   "source": [
    "Answer of Question-29"
   ]
  },
  {
   "cell_type": "code",
   "execution_count": 6,
   "id": "7652f8c0",
   "metadata": {},
   "outputs": [
    {
     "name": "stdout",
     "output_type": "stream",
     "text": [
      "['12-09-1992', '15-12-1999']\n"
     ]
    }
   ],
   "source": [
    "Text_File=open(\"C:\\Flip Robo Internship\\9\\Q-29 Sample Text.txt\",\"r\")\n",
    "Sample_Text=Text_File.read()\n",
    "Date=re.findall(\"(\\d+-\\d+-\\d+)\",Sample_Text)\n",
    "print(Date)"
   ]
  },
  {
   "cell_type": "markdown",
   "id": "ca117095",
   "metadata": {},
   "source": [
    "Answer of Question-30"
   ]
  },
  {
   "cell_type": "code",
   "execution_count": 7,
   "id": "20a4d280",
   "metadata": {},
   "outputs": [
    {
     "name": "stdout",
     "output_type": "stream",
     "text": [
      "Python:Exercises::PHP:exercises:\n"
     ]
    }
   ],
   "source": [
    "Q30_Text='Python Exercises, PHP exercises.'\n",
    "Colon_Text=re.sub('[ ,.]',':',Q30_Text)\n",
    "print(Colon_Text)"
   ]
  },
  {
   "cell_type": "code",
   "execution_count": null,
   "id": "a64e72ef",
   "metadata": {},
   "outputs": [],
   "source": []
  }
 ],
 "metadata": {
  "kernelspec": {
   "display_name": "Python 3 (ipykernel)",
   "language": "python",
   "name": "python3"
  },
  "language_info": {
   "codemirror_mode": {
    "name": "ipython",
    "version": 3
   },
   "file_extension": ".py",
   "mimetype": "text/x-python",
   "name": "python",
   "nbconvert_exporter": "python",
   "pygments_lexer": "ipython3",
   "version": "3.9.13"
  }
 },
 "nbformat": 4,
 "nbformat_minor": 5
}
